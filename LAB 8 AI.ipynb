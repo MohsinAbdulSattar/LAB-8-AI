{
 "cells": [
  {
   "cell_type": "code",
   "execution_count": 2,
   "id": "19cff51a-e639-44f0-9f16-ba31c5460c62",
   "metadata": {},
   "outputs": [
    {
     "name": "stdout",
     "output_type": "stream",
     "text": [
      "       Movie1  Movie2  Movie3  Movie4  Movie5\n",
      "User                                         \n",
      "User1       5       3       4       2       1\n",
      "User2       3       2       3       5       4\n",
      "User3       4       4       5       3       2\n",
      "User4       2       4       4       1       5\n",
      "User5       1       5       2       3       4\n",
      "          Movie1    Movie2    Movie3    Movie4    Movie5\n",
      "Movie1  1.000000  0.805823  0.950871  0.817424  0.667863\n",
      "Movie2  0.805823  1.000000  0.914286  0.810827  0.895586\n",
      "Movie3  0.950871  0.914286  1.000000  0.828079  0.819689\n",
      "Movie4  0.817424  0.810827  0.828079  1.000000  0.824890\n",
      "Movie5  0.667863  0.895586  0.819689  0.824890  1.000000\n",
      "Movies similar to Movie1: ['Movie3', 'Movie4', 'Movie2']\n",
      "Recommended movies for User1:\n"
     ]
    },
    {
     "name": "stderr",
     "output_type": "stream",
     "text": [
      "C:\\Users\\hp\\anaconda3\\Lib\\site-packages\\sklearn\\base.py:493: UserWarning: X does not have valid feature names, but NearestNeighbors was fitted with feature names\n",
      "  warnings.warn(\n"
     ]
    }
   ],
   "source": [
    "import pandas as pd\n",
    "import numpy as np\n",
    "from sklearn.metrics.pairwise import cosine_similarity\n",
    "from sklearn.neighbors import NearestNeighbors\n",
    "data = {\n",
    "    'User': ['User1', 'User2', 'User3', 'User4', 'User5'],\n",
    "    'Movie1': [5, 3, 4, 2, 1],\n",
    "    'Movie2': [3, 2, 4, 4, 5],\n",
    "    'Movie3': [4, 3, 5, 4, 2],\n",
    "    'Movie4': [2, 5, 3, 1, 3],\n",
    "    'Movie5': [1, 4, 2, 5, 4],\n",
    "}\n",
    "df = pd.DataFrame(data).set_index('User')\n",
    "print(df)\n",
    "movie_similarity = cosine_similarity(df.T)\n",
    "movie_similarity_df = pd.DataFrame(movie_similarity, index=df.columns, columns=df.columns)\n",
    "print(movie_similarity_df)\n",
    "model_knn = NearestNeighbors(metric='cosine', algorithm='brute')\n",
    "model_knn.fit(df.T)  \n",
    "def get_similar_movies(movie_name, n=3):\n",
    "    movie_idx = df.columns.get_loc(movie_name)\n",
    "    distances, indices = model_knn.kneighbors(df.T.iloc[movie_idx].values.reshape(1, -1), n_neighbors=n+1) \n",
    "    similar_movies = [df.columns[idx] for idx in indices.flatten()][1:]\n",
    "    return similar_movies\n",
    "similar_movies = get_similar_movies('Movie1', n=3)\n",
    "print(f\"Movies similar to Movie1: {similar_movies}\")\n",
    "def predict_ratings(user, n=3):\n",
    "    user_ratings = df.loc[user]\n",
    "    rated_movies = user_ratings.dropna().index\n",
    "    unrated_movies = df.columns.difference(rated_movies)    \n",
    "    predicted_ratings = []\n",
    "    for movie in unrated_movies:\n",
    "        similar_movies = get_similar_movies(movie, n)\n",
    "        similar_ratings = df.loc[user, similar_movies]\n",
    "        similarity_scores = movie_similarity_df[movie][similar_movies]\n",
    "        weighted_rating = np.dot(similarity_scores, similar_ratings) / similarity_scores.sum()\n",
    "        predicted_ratings.append((movie, weighted_rating))\n",
    "    predicted_ratings.sort(key=lambda x: x[1], reverse=True)\n",
    "    return predicted_ratings\n",
    "user = 'User1'\n",
    "recommended_movies = predict_ratings(user, n=3)\n",
    "print(f\"Recommended movies for {user}:\")\n",
    "for movie, rating in recommended_movies:\n",
    "    print(f\"{movie}: Predicted Rating = {rating:.2f}\")"
   ]
  }
 ],
 "metadata": {
  "kernelspec": {
   "display_name": "Python 3 (ipykernel)",
   "language": "python",
   "name": "python3"
  },
  "language_info": {
   "codemirror_mode": {
    "name": "ipython",
    "version": 3
   },
   "file_extension": ".py",
   "mimetype": "text/x-python",
   "name": "python",
   "nbconvert_exporter": "python",
   "pygments_lexer": "ipython3",
   "version": "3.12.3"
  }
 },
 "nbformat": 4,
 "nbformat_minor": 5
}
